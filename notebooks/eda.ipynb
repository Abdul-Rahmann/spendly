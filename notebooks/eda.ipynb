{
 "cells": [
  {
   "cell_type": "code",
   "id": "initial_id",
   "metadata": {
    "collapsed": true,
    "ExecuteTime": {
     "end_time": "2025-08-09T12:03:18.131210Z",
     "start_time": "2025-08-09T12:03:18.129527Z"
    }
   },
   "source": [
    "import pandas as pd\n",
    "import matplotlib.pyplot as plt\n",
    "import seaborn as sns\n",
    "import numpy as np"
   ],
   "outputs": [],
   "execution_count": 1
  },
  {
   "metadata": {
    "ExecuteTime": {
     "end_time": "2025-08-09T12:03:18.149176Z",
     "start_time": "2025-08-09T12:03:18.146994Z"
    }
   },
   "cell_type": "code",
   "source": "PROCESSED_PATH = '../data/processed/'",
   "id": "8d959b5f648e7600",
   "outputs": [],
   "execution_count": 2
  },
  {
   "metadata": {
    "ExecuteTime": {
     "end_time": "2025-08-09T12:03:18.187851Z",
     "start_time": "2025-08-09T12:03:18.168247Z"
    }
   },
   "cell_type": "code",
   "source": [
    "df = pd.read_csv(f'{PROCESSED_PATH}/transactions.csv')\n",
    "df.head()"
   ],
   "id": "772ef2090135ad44",
   "outputs": [
    {
     "data": {
      "text/plain": [
       "           Date                                        Description  \\\n",
       "0  Jan 01, 2025                                                NaN   \n",
       "1  Jan 02, 2025        Withdrawal 25991738 Free Interac E Transfer   \n",
       "2  Jan 02, 2025                      MB Transfer from 232001691155   \n",
       "3  Jan 02, 2025  Point of sale purchase Apos Driver Services Va...   \n",
       "4  Jan 02, 2025  Point of sale purchase Apos Driver Services Va...   \n",
       "\n",
       "  Withdrawals ($) Deposits ($) Balance ($)  \n",
       "0  OpeningBalance          NaN       22.01  \n",
       "1            8.00          NaN       14.01  \n",
       "2             NaN        60.00       74.01  \n",
       "3           15.00          NaN       59.01  \n",
       "4           10.00          NaN       49.01  "
      ],
      "text/html": [
       "<div>\n",
       "<style scoped>\n",
       "    .dataframe tbody tr th:only-of-type {\n",
       "        vertical-align: middle;\n",
       "    }\n",
       "\n",
       "    .dataframe tbody tr th {\n",
       "        vertical-align: top;\n",
       "    }\n",
       "\n",
       "    .dataframe thead th {\n",
       "        text-align: right;\n",
       "    }\n",
       "</style>\n",
       "<table border=\"1\" class=\"dataframe\">\n",
       "  <thead>\n",
       "    <tr style=\"text-align: right;\">\n",
       "      <th></th>\n",
       "      <th>Date</th>\n",
       "      <th>Description</th>\n",
       "      <th>Withdrawals ($)</th>\n",
       "      <th>Deposits ($)</th>\n",
       "      <th>Balance ($)</th>\n",
       "    </tr>\n",
       "  </thead>\n",
       "  <tbody>\n",
       "    <tr>\n",
       "      <th>0</th>\n",
       "      <td>Jan 01, 2025</td>\n",
       "      <td>NaN</td>\n",
       "      <td>OpeningBalance</td>\n",
       "      <td>NaN</td>\n",
       "      <td>22.01</td>\n",
       "    </tr>\n",
       "    <tr>\n",
       "      <th>1</th>\n",
       "      <td>Jan 02, 2025</td>\n",
       "      <td>Withdrawal 25991738 Free Interac E Transfer</td>\n",
       "      <td>8.00</td>\n",
       "      <td>NaN</td>\n",
       "      <td>14.01</td>\n",
       "    </tr>\n",
       "    <tr>\n",
       "      <th>2</th>\n",
       "      <td>Jan 02, 2025</td>\n",
       "      <td>MB Transfer from 232001691155</td>\n",
       "      <td>NaN</td>\n",
       "      <td>60.00</td>\n",
       "      <td>74.01</td>\n",
       "    </tr>\n",
       "    <tr>\n",
       "      <th>3</th>\n",
       "      <td>Jan 02, 2025</td>\n",
       "      <td>Point of sale purchase Apos Driver Services Va...</td>\n",
       "      <td>15.00</td>\n",
       "      <td>NaN</td>\n",
       "      <td>59.01</td>\n",
       "    </tr>\n",
       "    <tr>\n",
       "      <th>4</th>\n",
       "      <td>Jan 02, 2025</td>\n",
       "      <td>Point of sale purchase Apos Driver Services Va...</td>\n",
       "      <td>10.00</td>\n",
       "      <td>NaN</td>\n",
       "      <td>49.01</td>\n",
       "    </tr>\n",
       "  </tbody>\n",
       "</table>\n",
       "</div>"
      ]
     },
     "execution_count": 3,
     "metadata": {},
     "output_type": "execute_result"
    }
   ],
   "execution_count": 3
  },
  {
   "metadata": {},
   "cell_type": "markdown",
   "source": "#### Data Exploration",
   "id": "12f20894d085792e"
  },
  {
   "metadata": {
    "ExecuteTime": {
     "end_time": "2025-08-09T12:03:18.364999Z",
     "start_time": "2025-08-09T12:03:18.359242Z"
    }
   },
   "cell_type": "code",
   "source": "df.shape",
   "id": "57a673ee6843ca61",
   "outputs": [
    {
     "data": {
      "text/plain": [
       "(618, 5)"
      ]
     },
     "execution_count": 4,
     "metadata": {},
     "output_type": "execute_result"
    }
   ],
   "execution_count": 4
  },
  {
   "metadata": {
    "ExecuteTime": {
     "end_time": "2025-08-09T12:03:18.511910Z",
     "start_time": "2025-08-09T12:03:18.508377Z"
    }
   },
   "cell_type": "code",
   "source": "df.columns",
   "id": "b5fc68437c700933",
   "outputs": [
    {
     "data": {
      "text/plain": [
       "Index(['Date', 'Description', 'Withdrawals ($)', 'Deposits ($)',\n",
       "       'Balance ($)'],\n",
       "      dtype='object')"
      ]
     },
     "execution_count": 5,
     "metadata": {},
     "output_type": "execute_result"
    }
   ],
   "execution_count": 5
  },
  {
   "metadata": {
    "ExecuteTime": {
     "end_time": "2025-08-09T12:03:18.634699Z",
     "start_time": "2025-08-09T12:03:18.624988Z"
    }
   },
   "cell_type": "code",
   "source": "df.info()",
   "id": "bfa60343f81b12c4",
   "outputs": [
    {
     "name": "stdout",
     "output_type": "stream",
     "text": [
      "<class 'pandas.core.frame.DataFrame'>\n",
      "RangeIndex: 618 entries, 0 to 617\n",
      "Data columns (total 5 columns):\n",
      " #   Column           Non-Null Count  Dtype \n",
      "---  ------           --------------  ----- \n",
      " 0   Date             618 non-null    object\n",
      " 1   Description      605 non-null    object\n",
      " 2   Withdrawals ($)  509 non-null    object\n",
      " 3   Deposits ($)     109 non-null    object\n",
      " 4   Balance ($)      618 non-null    object\n",
      "dtypes: object(5)\n",
      "memory usage: 24.3+ KB\n"
     ]
    }
   ],
   "execution_count": 6
  },
  {
   "metadata": {
    "ExecuteTime": {
     "end_time": "2025-08-09T12:03:18.671760Z",
     "start_time": "2025-08-09T12:03:18.668347Z"
    }
   },
   "cell_type": "code",
   "source": "df.isnull().sum()",
   "id": "216b1bc2e486ae94",
   "outputs": [
    {
     "data": {
      "text/plain": [
       "Date                 0\n",
       "Description         13\n",
       "Withdrawals ($)    109\n",
       "Deposits ($)       509\n",
       "Balance ($)          0\n",
       "dtype: int64"
      ]
     },
     "execution_count": 7,
     "metadata": {},
     "output_type": "execute_result"
    }
   ],
   "execution_count": 7
  },
  {
   "metadata": {
    "ExecuteTime": {
     "end_time": "2025-08-09T12:03:18.722129Z",
     "start_time": "2025-08-09T12:03:18.718501Z"
    }
   },
   "cell_type": "code",
   "source": [
    "renames = {\n",
    "    'Date':'date',\n",
    "    'Description':'description',\n",
    "    'Withdrawals ($)':'withdrawals',\n",
    "    'Deposits ($)':'deposits',\n",
    "    'Balance ($)':'balance'\n",
    "}\n",
    "df = df.rename(columns=renames)\n",
    "df.columns"
   ],
   "id": "fc2f34accd3d0e12",
   "outputs": [
    {
     "data": {
      "text/plain": [
       "Index(['date', 'description', 'withdrawals', 'deposits', 'balance'], dtype='object')"
      ]
     },
     "execution_count": 8,
     "metadata": {},
     "output_type": "execute_result"
    }
   ],
   "execution_count": 8
  },
  {
   "metadata": {
    "ExecuteTime": {
     "end_time": "2025-08-09T12:03:18.919665Z",
     "start_time": "2025-08-09T12:03:18.915677Z"
    }
   },
   "cell_type": "code",
   "source": [
    "df.loc[df['withdrawals'] == 'OpeningBalance', 'description'] = 'Opening Balance'\n",
    "df.loc[df['withdrawals'] == 'OpeningBalance', 'withdrawals'] = np.nan\n",
    "\n",
    "df.loc[df['withdrawals'] == 'ClosingBalance', 'description'] = 'Closing Balance'\n",
    "df.loc[df['withdrawals'] == 'ClosingBalance', 'withdrawals'] = np.nan"
   ],
   "id": "2facc46ae4cb08c6",
   "outputs": [],
   "execution_count": 9
  },
  {
   "metadata": {
    "ExecuteTime": {
     "end_time": "2025-08-09T12:03:18.988939Z",
     "start_time": "2025-08-09T12:03:18.975654Z"
    }
   },
   "cell_type": "code",
   "source": [
    "df['withdrawals'] = df['withdrawals'].str.replace(',','')\n",
    "df['withdrawals'] = df['withdrawals'].str.replace('.','')\n",
    "df['withdrawals'] = df['withdrawals'].str.replace('$','')\n",
    "\n",
    "df['deposits'] = df['deposits'].str.replace(',','')\n",
    "df['deposits'] = df['deposits'].str.replace('.','')\n",
    "df['deposits'] = df['deposits'].str.replace('$','')\n",
    "\n",
    "df['balance'] = df['balance'].str.replace(',','')\n",
    "df['balance'] = df['balance'].str.replace('.','')\n",
    "df['balance'] = df['balance'].str.replace('$','')\n",
    "\n",
    "df['withdrawals'] = df['withdrawals'].astype(np.float32)\n",
    "df['deposits'] = df['deposits'].astype(np.float32)\n",
    "df['balance'] = df['balance'].astype(np.float32)\n",
    "df['date'] = pd.to_datetime(df['date'])\n",
    "\n",
    "df.info()"
   ],
   "id": "503b73c76f78b770",
   "outputs": [
    {
     "name": "stdout",
     "output_type": "stream",
     "text": [
      "<class 'pandas.core.frame.DataFrame'>\n",
      "RangeIndex: 618 entries, 0 to 617\n",
      "Data columns (total 5 columns):\n",
      " #   Column       Non-Null Count  Dtype         \n",
      "---  ------       --------------  -----         \n",
      " 0   date         618 non-null    datetime64[ns]\n",
      " 1   description  618 non-null    object        \n",
      " 2   withdrawals  484 non-null    float32       \n",
      " 3   deposits     109 non-null    float32       \n",
      " 4   balance      618 non-null    float32       \n",
      "dtypes: datetime64[ns](1), float32(3), object(1)\n",
      "memory usage: 17.0+ KB\n"
     ]
    }
   ],
   "execution_count": 10
  },
  {
   "metadata": {
    "ExecuteTime": {
     "end_time": "2025-08-09T12:03:19.049018Z",
     "start_time": "2025-08-09T12:03:19.044021Z"
    }
   },
   "cell_type": "code",
   "source": "df.head()",
   "id": "100a8c0fff6d72d4",
   "outputs": [
    {
     "data": {
      "text/plain": [
       "        date                                        description  withdrawals  \\\n",
       "0 2025-01-01                                    Opening Balance          NaN   \n",
       "1 2025-01-02        Withdrawal 25991738 Free Interac E Transfer        800.0   \n",
       "2 2025-01-02                      MB Transfer from 232001691155          NaN   \n",
       "3 2025-01-02  Point of sale purchase Apos Driver Services Va...       1500.0   \n",
       "4 2025-01-02  Point of sale purchase Apos Driver Services Va...       1000.0   \n",
       "\n",
       "   deposits  balance  \n",
       "0       NaN   2201.0  \n",
       "1       NaN   1401.0  \n",
       "2    6000.0   7401.0  \n",
       "3       NaN   5901.0  \n",
       "4       NaN   4901.0  "
      ],
      "text/html": [
       "<div>\n",
       "<style scoped>\n",
       "    .dataframe tbody tr th:only-of-type {\n",
       "        vertical-align: middle;\n",
       "    }\n",
       "\n",
       "    .dataframe tbody tr th {\n",
       "        vertical-align: top;\n",
       "    }\n",
       "\n",
       "    .dataframe thead th {\n",
       "        text-align: right;\n",
       "    }\n",
       "</style>\n",
       "<table border=\"1\" class=\"dataframe\">\n",
       "  <thead>\n",
       "    <tr style=\"text-align: right;\">\n",
       "      <th></th>\n",
       "      <th>date</th>\n",
       "      <th>description</th>\n",
       "      <th>withdrawals</th>\n",
       "      <th>deposits</th>\n",
       "      <th>balance</th>\n",
       "    </tr>\n",
       "  </thead>\n",
       "  <tbody>\n",
       "    <tr>\n",
       "      <th>0</th>\n",
       "      <td>2025-01-01</td>\n",
       "      <td>Opening Balance</td>\n",
       "      <td>NaN</td>\n",
       "      <td>NaN</td>\n",
       "      <td>2201.0</td>\n",
       "    </tr>\n",
       "    <tr>\n",
       "      <th>1</th>\n",
       "      <td>2025-01-02</td>\n",
       "      <td>Withdrawal 25991738 Free Interac E Transfer</td>\n",
       "      <td>800.0</td>\n",
       "      <td>NaN</td>\n",
       "      <td>1401.0</td>\n",
       "    </tr>\n",
       "    <tr>\n",
       "      <th>2</th>\n",
       "      <td>2025-01-02</td>\n",
       "      <td>MB Transfer from 232001691155</td>\n",
       "      <td>NaN</td>\n",
       "      <td>6000.0</td>\n",
       "      <td>7401.0</td>\n",
       "    </tr>\n",
       "    <tr>\n",
       "      <th>3</th>\n",
       "      <td>2025-01-02</td>\n",
       "      <td>Point of sale purchase Apos Driver Services Va...</td>\n",
       "      <td>1500.0</td>\n",
       "      <td>NaN</td>\n",
       "      <td>5901.0</td>\n",
       "    </tr>\n",
       "    <tr>\n",
       "      <th>4</th>\n",
       "      <td>2025-01-02</td>\n",
       "      <td>Point of sale purchase Apos Driver Services Va...</td>\n",
       "      <td>1000.0</td>\n",
       "      <td>NaN</td>\n",
       "      <td>4901.0</td>\n",
       "    </tr>\n",
       "  </tbody>\n",
       "</table>\n",
       "</div>"
      ]
     },
     "execution_count": 11,
     "metadata": {},
     "output_type": "execute_result"
    }
   ],
   "execution_count": 11
  },
  {
   "metadata": {
    "ExecuteTime": {
     "end_time": "2025-08-09T12:03:19.139807Z",
     "start_time": "2025-08-09T12:03:19.129331Z"
    }
   },
   "cell_type": "code",
   "source": "df.to_csv(f\"{PROCESSED_PATH}/clean_df.csv\", index=False)",
   "id": "8765a7eec4cff9ac",
   "outputs": [],
   "execution_count": 12
  },
  {
   "metadata": {},
   "cell_type": "markdown",
   "source": "#### Feature Engineering",
   "id": "91f9be5ab764f0cb"
  },
  {
   "metadata": {
    "ExecuteTime": {
     "end_time": "2025-08-09T12:05:29.110515Z",
     "start_time": "2025-08-09T12:05:29.062263Z"
    }
   },
   "cell_type": "code",
   "source": [
    "df_clean = pd.read_csv(f\"{PROCESSED_PATH}/clean_df.csv\")\n",
    "df.head()"
   ],
   "id": "8ea953c999afaf27",
   "outputs": [
    {
     "data": {
      "text/plain": [
       "        date                                        description  withdrawals  \\\n",
       "0 2025-01-01                                    Opening Balance          NaN   \n",
       "1 2025-01-02        Withdrawal 25991738 Free Interac E Transfer        800.0   \n",
       "2 2025-01-02                      MB Transfer from 232001691155          NaN   \n",
       "3 2025-01-02  Point of sale purchase Apos Driver Services Va...       1500.0   \n",
       "4 2025-01-02  Point of sale purchase Apos Driver Services Va...       1000.0   \n",
       "\n",
       "   deposits  balance  \n",
       "0       NaN   2201.0  \n",
       "1       NaN   1401.0  \n",
       "2    6000.0   7401.0  \n",
       "3       NaN   5901.0  \n",
       "4       NaN   4901.0  "
      ],
      "text/html": [
       "<div>\n",
       "<style scoped>\n",
       "    .dataframe tbody tr th:only-of-type {\n",
       "        vertical-align: middle;\n",
       "    }\n",
       "\n",
       "    .dataframe tbody tr th {\n",
       "        vertical-align: top;\n",
       "    }\n",
       "\n",
       "    .dataframe thead th {\n",
       "        text-align: right;\n",
       "    }\n",
       "</style>\n",
       "<table border=\"1\" class=\"dataframe\">\n",
       "  <thead>\n",
       "    <tr style=\"text-align: right;\">\n",
       "      <th></th>\n",
       "      <th>date</th>\n",
       "      <th>description</th>\n",
       "      <th>withdrawals</th>\n",
       "      <th>deposits</th>\n",
       "      <th>balance</th>\n",
       "    </tr>\n",
       "  </thead>\n",
       "  <tbody>\n",
       "    <tr>\n",
       "      <th>0</th>\n",
       "      <td>2025-01-01</td>\n",
       "      <td>Opening Balance</td>\n",
       "      <td>NaN</td>\n",
       "      <td>NaN</td>\n",
       "      <td>2201.0</td>\n",
       "    </tr>\n",
       "    <tr>\n",
       "      <th>1</th>\n",
       "      <td>2025-01-02</td>\n",
       "      <td>Withdrawal 25991738 Free Interac E Transfer</td>\n",
       "      <td>800.0</td>\n",
       "      <td>NaN</td>\n",
       "      <td>1401.0</td>\n",
       "    </tr>\n",
       "    <tr>\n",
       "      <th>2</th>\n",
       "      <td>2025-01-02</td>\n",
       "      <td>MB Transfer from 232001691155</td>\n",
       "      <td>NaN</td>\n",
       "      <td>6000.0</td>\n",
       "      <td>7401.0</td>\n",
       "    </tr>\n",
       "    <tr>\n",
       "      <th>3</th>\n",
       "      <td>2025-01-02</td>\n",
       "      <td>Point of sale purchase Apos Driver Services Va...</td>\n",
       "      <td>1500.0</td>\n",
       "      <td>NaN</td>\n",
       "      <td>5901.0</td>\n",
       "    </tr>\n",
       "    <tr>\n",
       "      <th>4</th>\n",
       "      <td>2025-01-02</td>\n",
       "      <td>Point of sale purchase Apos Driver Services Va...</td>\n",
       "      <td>1000.0</td>\n",
       "      <td>NaN</td>\n",
       "      <td>4901.0</td>\n",
       "    </tr>\n",
       "  </tbody>\n",
       "</table>\n",
       "</div>"
      ]
     },
     "execution_count": 13,
     "metadata": {},
     "output_type": "execute_result"
    }
   ],
   "execution_count": 13
  },
  {
   "metadata": {
    "ExecuteTime": {
     "end_time": "2025-08-09T12:05:41.446697Z",
     "start_time": "2025-08-09T12:05:41.429927Z"
    }
   },
   "cell_type": "code",
   "source": "df_clean.info()",
   "id": "22e967292b1b2356",
   "outputs": [
    {
     "name": "stdout",
     "output_type": "stream",
     "text": [
      "<class 'pandas.core.frame.DataFrame'>\n",
      "RangeIndex: 618 entries, 0 to 617\n",
      "Data columns (total 5 columns):\n",
      " #   Column       Non-Null Count  Dtype  \n",
      "---  ------       --------------  -----  \n",
      " 0   date         618 non-null    object \n",
      " 1   description  618 non-null    object \n",
      " 2   withdrawals  484 non-null    float64\n",
      " 3   deposits     109 non-null    float64\n",
      " 4   balance      618 non-null    float64\n",
      "dtypes: float64(3), object(2)\n",
      "memory usage: 24.3+ KB\n"
     ]
    }
   ],
   "execution_count": 14
  },
  {
   "metadata": {},
   "cell_type": "code",
   "outputs": [],
   "execution_count": null,
   "source": "",
   "id": "2c31051e452481e"
  }
 ],
 "metadata": {
  "kernelspec": {
   "display_name": "Python 3",
   "language": "python",
   "name": "python3"
  },
  "language_info": {
   "codemirror_mode": {
    "name": "ipython",
    "version": 2
   },
   "file_extension": ".py",
   "mimetype": "text/x-python",
   "name": "python",
   "nbconvert_exporter": "python",
   "pygments_lexer": "ipython2",
   "version": "2.7.6"
  }
 },
 "nbformat": 4,
 "nbformat_minor": 5
}
