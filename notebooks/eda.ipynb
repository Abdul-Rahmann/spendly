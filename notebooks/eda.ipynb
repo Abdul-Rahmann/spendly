{
 "cells": [
  {
   "cell_type": "code",
   "id": "initial_id",
   "metadata": {
    "collapsed": true,
    "ExecuteTime": {
     "end_time": "2025-08-09T12:03:18.131210Z",
     "start_time": "2025-08-09T12:03:18.129527Z"
    }
   },
   "source": [
    "import pandas as pd\n",
    "import matplotlib.pyplot as plt\n",
    "import seaborn as sns\n",
    "import numpy as np"
   ],
   "outputs": [],
   "execution_count": 1
  },
  {
   "metadata": {
    "ExecuteTime": {
     "end_time": "2025-08-09T12:03:18.149176Z",
     "start_time": "2025-08-09T12:03:18.146994Z"
    }
   },
   "cell_type": "code",
   "source": "PROCESSED_PATH = '../data/processed/'",
   "id": "8d959b5f648e7600",
   "outputs": [],
   "execution_count": 2
  },
  {
   "metadata": {
    "ExecuteTime": {
     "end_time": "2025-08-09T12:03:18.187851Z",
     "start_time": "2025-08-09T12:03:18.168247Z"
    }
   },
   "cell_type": "code",
   "source": [
    "df = pd.read_csv(f'{PROCESSED_PATH}/transactions.csv')\n",
    "df.head()"
   ],
   "id": "772ef2090135ad44",
   "outputs": [
    {
     "data": {
      "text/plain": [
       "           Date                                        Description  \\\n",
       "0  Jan 01, 2025                                                NaN   \n",
       "1  Jan 02, 2025        Withdrawal 25991738 Free Interac E Transfer   \n",
       "2  Jan 02, 2025                      MB Transfer from 232001691155   \n",
       "3  Jan 02, 2025  Point of sale purchase Apos Driver Services Va...   \n",
       "4  Jan 02, 2025  Point of sale purchase Apos Driver Services Va...   \n",
       "\n",
       "  Withdrawals ($) Deposits ($) Balance ($)  \n",
       "0  OpeningBalance          NaN       22.01  \n",
       "1            8.00          NaN       14.01  \n",
       "2             NaN        60.00       74.01  \n",
       "3           15.00          NaN       59.01  \n",
       "4           10.00          NaN       49.01  "
      ],
      "text/html": [
       "<div>\n",
       "<style scoped>\n",
       "    .dataframe tbody tr th:only-of-type {\n",
       "        vertical-align: middle;\n",
       "    }\n",
       "\n",
       "    .dataframe tbody tr th {\n",
       "        vertical-align: top;\n",
       "    }\n",
       "\n",
       "    .dataframe thead th {\n",
       "        text-align: right;\n",
       "    }\n",
       "</style>\n",
       "<table border=\"1\" class=\"dataframe\">\n",
       "  <thead>\n",
       "    <tr style=\"text-align: right;\">\n",
       "      <th></th>\n",
       "      <th>Date</th>\n",
       "      <th>Description</th>\n",
       "      <th>Withdrawals ($)</th>\n",
       "      <th>Deposits ($)</th>\n",
       "      <th>Balance ($)</th>\n",
       "    </tr>\n",
       "  </thead>\n",
       "  <tbody>\n",
       "    <tr>\n",
       "      <th>0</th>\n",
       "      <td>Jan 01, 2025</td>\n",
       "      <td>NaN</td>\n",
       "      <td>OpeningBalance</td>\n",
       "      <td>NaN</td>\n",
       "      <td>22.01</td>\n",
       "    </tr>\n",
       "    <tr>\n",
       "      <th>1</th>\n",
       "      <td>Jan 02, 2025</td>\n",
       "      <td>Withdrawal 25991738 Free Interac E Transfer</td>\n",
       "      <td>8.00</td>\n",
       "      <td>NaN</td>\n",
       "      <td>14.01</td>\n",
       "    </tr>\n",
       "    <tr>\n",
       "      <th>2</th>\n",
       "      <td>Jan 02, 2025</td>\n",
       "      <td>MB Transfer from 232001691155</td>\n",
       "      <td>NaN</td>\n",
       "      <td>60.00</td>\n",
       "      <td>74.01</td>\n",
       "    </tr>\n",
       "    <tr>\n",
       "      <th>3</th>\n",
       "      <td>Jan 02, 2025</td>\n",
       "      <td>Point of sale purchase Apos Driver Services Va...</td>\n",
       "      <td>15.00</td>\n",
       "      <td>NaN</td>\n",
       "      <td>59.01</td>\n",
       "    </tr>\n",
       "    <tr>\n",
       "      <th>4</th>\n",
       "      <td>Jan 02, 2025</td>\n",
       "      <td>Point of sale purchase Apos Driver Services Va...</td>\n",
       "      <td>10.00</td>\n",
       "      <td>NaN</td>\n",
       "      <td>49.01</td>\n",
       "    </tr>\n",
       "  </tbody>\n",
       "</table>\n",
       "</div>"
      ]
     },
     "execution_count": 3,
     "metadata": {},
     "output_type": "execute_result"
    }
   ],
   "execution_count": 3
  },
  {
   "metadata": {},
   "cell_type": "markdown",
   "source": "#### Data Exploration",
   "id": "12f20894d085792e"
  },
  {
   "metadata": {
    "ExecuteTime": {
     "end_time": "2025-08-09T12:03:18.364999Z",
     "start_time": "2025-08-09T12:03:18.359242Z"
    }
   },
   "cell_type": "code",
   "source": "df.shape",
   "id": "57a673ee6843ca61",
   "outputs": [
    {
     "data": {
      "text/plain": [
       "(618, 5)"
      ]
     },
     "execution_count": 4,
     "metadata": {},
     "output_type": "execute_result"
    }
   ],
   "execution_count": 4
  },
  {
   "metadata": {
    "ExecuteTime": {
     "end_time": "2025-08-09T12:03:18.511910Z",
     "start_time": "2025-08-09T12:03:18.508377Z"
    }
   },
   "cell_type": "code",
   "source": "df.columns",
   "id": "b5fc68437c700933",
   "outputs": [
    {
     "data": {
      "text/plain": [
       "Index(['Date', 'Description', 'Withdrawals ($)', 'Deposits ($)',\n",
       "       'Balance ($)'],\n",
       "      dtype='object')"
      ]
     },
     "execution_count": 5,
     "metadata": {},
     "output_type": "execute_result"
    }
   ],
   "execution_count": 5
  },
  {
   "metadata": {
    "ExecuteTime": {
     "end_time": "2025-08-09T12:03:18.634699Z",
     "start_time": "2025-08-09T12:03:18.624988Z"
    }
   },
   "cell_type": "code",
   "source": "df.info()",
   "id": "bfa60343f81b12c4",
   "outputs": [
    {
     "name": "stdout",
     "output_type": "stream",
     "text": [
      "<class 'pandas.core.frame.DataFrame'>\n",
      "RangeIndex: 618 entries, 0 to 617\n",
      "Data columns (total 5 columns):\n",
      " #   Column           Non-Null Count  Dtype \n",
      "---  ------           --------------  ----- \n",
      " 0   Date             618 non-null    object\n",
      " 1   Description      605 non-null    object\n",
      " 2   Withdrawals ($)  509 non-null    object\n",
      " 3   Deposits ($)     109 non-null    object\n",
      " 4   Balance ($)      618 non-null    object\n",
      "dtypes: object(5)\n",
      "memory usage: 24.3+ KB\n"
     ]
    }
   ],
   "execution_count": 6
  },
  {
   "metadata": {
    "ExecuteTime": {
     "end_time": "2025-08-09T12:03:18.671760Z",
     "start_time": "2025-08-09T12:03:18.668347Z"
    }
   },
   "cell_type": "code",
   "source": "df.isnull().sum()",
   "id": "216b1bc2e486ae94",
   "outputs": [
    {
     "data": {
      "text/plain": [
       "Date                 0\n",
       "Description         13\n",
       "Withdrawals ($)    109\n",
       "Deposits ($)       509\n",
       "Balance ($)          0\n",
       "dtype: int64"
      ]
     },
     "execution_count": 7,
     "metadata": {},
     "output_type": "execute_result"
    }
   ],
   "execution_count": 7
  },
  {
   "metadata": {
    "ExecuteTime": {
     "end_time": "2025-08-09T12:03:18.722129Z",
     "start_time": "2025-08-09T12:03:18.718501Z"
    }
   },
   "cell_type": "code",
   "source": [
    "renames = {\n",
    "    'Date':'date',\n",
    "    'Description':'description',\n",
    "    'Withdrawals ($)':'withdrawals',\n",
    "    'Deposits ($)':'deposits',\n",
    "    'Balance ($)':'balance'\n",
    "}\n",
    "df = df.rename(columns=renames)\n",
    "df.columns"
   ],
   "id": "fc2f34accd3d0e12",
   "outputs": [
    {
     "data": {
      "text/plain": [
       "Index(['date', 'description', 'withdrawals', 'deposits', 'balance'], dtype='object')"
      ]
     },
     "execution_count": 8,
     "metadata": {},
     "output_type": "execute_result"
    }
   ],
   "execution_count": 8
  },
  {
   "metadata": {
    "ExecuteTime": {
     "end_time": "2025-08-09T12:03:18.919665Z",
     "start_time": "2025-08-09T12:03:18.915677Z"
    }
   },
   "cell_type": "code",
   "source": [
    "df.loc[df['withdrawals'] == 'OpeningBalance', 'description'] = 'Opening Balance'\n",
    "df.loc[df['withdrawals'] == 'OpeningBalance', 'withdrawals'] = np.nan\n",
    "\n",
    "df.loc[df['withdrawals'] == 'ClosingBalance', 'description'] = 'Closing Balance'\n",
    "df.loc[df['withdrawals'] == 'ClosingBalance', 'withdrawals'] = np.nan"
   ],
   "id": "2facc46ae4cb08c6",
   "outputs": [],
   "execution_count": 9
  },
  {
   "metadata": {
    "ExecuteTime": {
     "end_time": "2025-08-09T12:03:18.988939Z",
     "start_time": "2025-08-09T12:03:18.975654Z"
    }
   },
   "cell_type": "code",
   "source": [
    "df['withdrawals'] = df['withdrawals'].str.replace(',','')\n",
    "df['withdrawals'] = df['withdrawals'].str.replace('.','')\n",
    "df['withdrawals'] = df['withdrawals'].str.replace('$','')\n",
    "\n",
    "df['deposits'] = df['deposits'].str.replace(',','')\n",
    "df['deposits'] = df['deposits'].str.replace('.','')\n",
    "df['deposits'] = df['deposits'].str.replace('$','')\n",
    "\n",
    "df['balance'] = df['balance'].str.replace(',','')\n",
    "df['balance'] = df['balance'].str.replace('.','')\n",
    "df['balance'] = df['balance'].str.replace('$','')\n",
    "\n",
    "df['withdrawals'] = df['withdrawals'].astype(np.float32)\n",
    "df['deposits'] = df['deposits'].astype(np.float32)\n",
    "df['balance'] = df['balance'].astype(np.float32)\n",
    "df['date'] = pd.to_datetime(df['date'])\n",
    "\n",
    "df.info()"
   ],
   "id": "503b73c76f78b770",
   "outputs": [
    {
     "name": "stdout",
     "output_type": "stream",
     "text": [
      "<class 'pandas.core.frame.DataFrame'>\n",
      "RangeIndex: 618 entries, 0 to 617\n",
      "Data columns (total 5 columns):\n",
      " #   Column       Non-Null Count  Dtype         \n",
      "---  ------       --------------  -----         \n",
      " 0   date         618 non-null    datetime64[ns]\n",
      " 1   description  618 non-null    object        \n",
      " 2   withdrawals  484 non-null    float32       \n",
      " 3   deposits     109 non-null    float32       \n",
      " 4   balance      618 non-null    float32       \n",
      "dtypes: datetime64[ns](1), float32(3), object(1)\n",
      "memory usage: 17.0+ KB\n"
     ]
    }
   ],
   "execution_count": 10
  },
  {
   "metadata": {
    "ExecuteTime": {
     "end_time": "2025-08-09T12:03:19.049018Z",
     "start_time": "2025-08-09T12:03:19.044021Z"
    }
   },
   "cell_type": "code",
   "source": "df.head()",
   "id": "100a8c0fff6d72d4",
   "outputs": [
    {
     "data": {
      "text/plain": [
       "        date                                        description  withdrawals  \\\n",
       "0 2025-01-01                                    Opening Balance          NaN   \n",
       "1 2025-01-02        Withdrawal 25991738 Free Interac E Transfer        800.0   \n",
       "2 2025-01-02                      MB Transfer from 232001691155          NaN   \n",
       "3 2025-01-02  Point of sale purchase Apos Driver Services Va...       1500.0   \n",
       "4 2025-01-02  Point of sale purchase Apos Driver Services Va...       1000.0   \n",
       "\n",
       "   deposits  balance  \n",
       "0       NaN   2201.0  \n",
       "1       NaN   1401.0  \n",
       "2    6000.0   7401.0  \n",
       "3       NaN   5901.0  \n",
       "4       NaN   4901.0  "
      ],
      "text/html": [
       "<div>\n",
       "<style scoped>\n",
       "    .dataframe tbody tr th:only-of-type {\n",
       "        vertical-align: middle;\n",
       "    }\n",
       "\n",
       "    .dataframe tbody tr th {\n",
       "        vertical-align: top;\n",
       "    }\n",
       "\n",
       "    .dataframe thead th {\n",
       "        text-align: right;\n",
       "    }\n",
       "</style>\n",
       "<table border=\"1\" class=\"dataframe\">\n",
       "  <thead>\n",
       "    <tr style=\"text-align: right;\">\n",
       "      <th></th>\n",
       "      <th>date</th>\n",
       "      <th>description</th>\n",
       "      <th>withdrawals</th>\n",
       "      <th>deposits</th>\n",
       "      <th>balance</th>\n",
       "    </tr>\n",
       "  </thead>\n",
       "  <tbody>\n",
       "    <tr>\n",
       "      <th>0</th>\n",
       "      <td>2025-01-01</td>\n",
       "      <td>Opening Balance</td>\n",
       "      <td>NaN</td>\n",
       "      <td>NaN</td>\n",
       "      <td>2201.0</td>\n",
       "    </tr>\n",
       "    <tr>\n",
       "      <th>1</th>\n",
       "      <td>2025-01-02</td>\n",
       "      <td>Withdrawal 25991738 Free Interac E Transfer</td>\n",
       "      <td>800.0</td>\n",
       "      <td>NaN</td>\n",
       "      <td>1401.0</td>\n",
       "    </tr>\n",
       "    <tr>\n",
       "      <th>2</th>\n",
       "      <td>2025-01-02</td>\n",
       "      <td>MB Transfer from 232001691155</td>\n",
       "      <td>NaN</td>\n",
       "      <td>6000.0</td>\n",
       "      <td>7401.0</td>\n",
       "    </tr>\n",
       "    <tr>\n",
       "      <th>3</th>\n",
       "      <td>2025-01-02</td>\n",
       "      <td>Point of sale purchase Apos Driver Services Va...</td>\n",
       "      <td>1500.0</td>\n",
       "      <td>NaN</td>\n",
       "      <td>5901.0</td>\n",
       "    </tr>\n",
       "    <tr>\n",
       "      <th>4</th>\n",
       "      <td>2025-01-02</td>\n",
       "      <td>Point of sale purchase Apos Driver Services Va...</td>\n",
       "      <td>1000.0</td>\n",
       "      <td>NaN</td>\n",
       "      <td>4901.0</td>\n",
       "    </tr>\n",
       "  </tbody>\n",
       "</table>\n",
       "</div>"
      ]
     },
     "execution_count": 11,
     "metadata": {},
     "output_type": "execute_result"
    }
   ],
   "execution_count": 11
  },
  {
   "metadata": {
    "ExecuteTime": {
     "end_time": "2025-08-09T12:03:19.139807Z",
     "start_time": "2025-08-09T12:03:19.129331Z"
    }
   },
   "cell_type": "code",
   "source": "df.to_csv(f\"{PROCESSED_PATH}/clean_df.csv\", index=False)",
   "id": "8765a7eec4cff9ac",
   "outputs": [],
   "execution_count": 12
  },
  {
   "metadata": {},
   "cell_type": "markdown",
   "source": "#### Feature Engineering",
   "id": "91f9be5ab764f0cb"
  },
  {
   "metadata": {
    "ExecuteTime": {
     "end_time": "2025-08-09T12:05:29.110515Z",
     "start_time": "2025-08-09T12:05:29.062263Z"
    }
   },
   "cell_type": "code",
   "source": [
    "df_clean = pd.read_csv(f\"{PROCESSED_PATH}/clean_df.csv\")\n",
    "df.head()"
   ],
   "id": "8ea953c999afaf27",
   "outputs": [
    {
     "data": {
      "text/plain": [
       "        date                                        description  withdrawals  \\\n",
       "0 2025-01-01                                    Opening Balance          NaN   \n",
       "1 2025-01-02        Withdrawal 25991738 Free Interac E Transfer        800.0   \n",
       "2 2025-01-02                      MB Transfer from 232001691155          NaN   \n",
       "3 2025-01-02  Point of sale purchase Apos Driver Services Va...       1500.0   \n",
       "4 2025-01-02  Point of sale purchase Apos Driver Services Va...       1000.0   \n",
       "\n",
       "   deposits  balance  \n",
       "0       NaN   2201.0  \n",
       "1       NaN   1401.0  \n",
       "2    6000.0   7401.0  \n",
       "3       NaN   5901.0  \n",
       "4       NaN   4901.0  "
      ],
      "text/html": [
       "<div>\n",
       "<style scoped>\n",
       "    .dataframe tbody tr th:only-of-type {\n",
       "        vertical-align: middle;\n",
       "    }\n",
       "\n",
       "    .dataframe tbody tr th {\n",
       "        vertical-align: top;\n",
       "    }\n",
       "\n",
       "    .dataframe thead th {\n",
       "        text-align: right;\n",
       "    }\n",
       "</style>\n",
       "<table border=\"1\" class=\"dataframe\">\n",
       "  <thead>\n",
       "    <tr style=\"text-align: right;\">\n",
       "      <th></th>\n",
       "      <th>date</th>\n",
       "      <th>description</th>\n",
       "      <th>withdrawals</th>\n",
       "      <th>deposits</th>\n",
       "      <th>balance</th>\n",
       "    </tr>\n",
       "  </thead>\n",
       "  <tbody>\n",
       "    <tr>\n",
       "      <th>0</th>\n",
       "      <td>2025-01-01</td>\n",
       "      <td>Opening Balance</td>\n",
       "      <td>NaN</td>\n",
       "      <td>NaN</td>\n",
       "      <td>2201.0</td>\n",
       "    </tr>\n",
       "    <tr>\n",
       "      <th>1</th>\n",
       "      <td>2025-01-02</td>\n",
       "      <td>Withdrawal 25991738 Free Interac E Transfer</td>\n",
       "      <td>800.0</td>\n",
       "      <td>NaN</td>\n",
       "      <td>1401.0</td>\n",
       "    </tr>\n",
       "    <tr>\n",
       "      <th>2</th>\n",
       "      <td>2025-01-02</td>\n",
       "      <td>MB Transfer from 232001691155</td>\n",
       "      <td>NaN</td>\n",
       "      <td>6000.0</td>\n",
       "      <td>7401.0</td>\n",
       "    </tr>\n",
       "    <tr>\n",
       "      <th>3</th>\n",
       "      <td>2025-01-02</td>\n",
       "      <td>Point of sale purchase Apos Driver Services Va...</td>\n",
       "      <td>1500.0</td>\n",
       "      <td>NaN</td>\n",
       "      <td>5901.0</td>\n",
       "    </tr>\n",
       "    <tr>\n",
       "      <th>4</th>\n",
       "      <td>2025-01-02</td>\n",
       "      <td>Point of sale purchase Apos Driver Services Va...</td>\n",
       "      <td>1000.0</td>\n",
       "      <td>NaN</td>\n",
       "      <td>4901.0</td>\n",
       "    </tr>\n",
       "  </tbody>\n",
       "</table>\n",
       "</div>"
      ]
     },
     "execution_count": 13,
     "metadata": {},
     "output_type": "execute_result"
    }
   ],
   "execution_count": 13
  },
  {
   "metadata": {
    "ExecuteTime": {
     "end_time": "2025-08-09T12:05:41.446697Z",
     "start_time": "2025-08-09T12:05:41.429927Z"
    }
   },
   "cell_type": "code",
   "source": "df_clean.info()",
   "id": "22e967292b1b2356",
   "outputs": [
    {
     "name": "stdout",
     "output_type": "stream",
     "text": [
      "<class 'pandas.core.frame.DataFrame'>\n",
      "RangeIndex: 618 entries, 0 to 617\n",
      "Data columns (total 5 columns):\n",
      " #   Column       Non-Null Count  Dtype  \n",
      "---  ------       --------------  -----  \n",
      " 0   date         618 non-null    object \n",
      " 1   description  618 non-null    object \n",
      " 2   withdrawals  484 non-null    float64\n",
      " 3   deposits     109 non-null    float64\n",
      " 4   balance      618 non-null    float64\n",
      "dtypes: float64(3), object(2)\n",
      "memory usage: 24.3+ KB\n"
     ]
    }
   ],
   "execution_count": 14
  },
  {
   "metadata": {
    "ExecuteTime": {
     "end_time": "2025-08-09T12:17:26.656671Z",
     "start_time": "2025-08-09T12:17:26.651911Z"
    }
   },
   "cell_type": "code",
   "source": "df_clean.loc[df_clean['description'] == 'Opening Balance'].shape",
   "id": "122aa39ae01e4dc9",
   "outputs": [
    {
     "data": {
      "text/plain": [
       "(0, 5)"
      ]
     },
     "execution_count": 20,
     "metadata": {},
     "output_type": "execute_result"
    }
   ],
   "execution_count": 20
  },
  {
   "metadata": {
    "ExecuteTime": {
     "end_time": "2025-08-09T12:17:28.524535Z",
     "start_time": "2025-08-09T12:17:28.521693Z"
    }
   },
   "cell_type": "code",
   "source": "df_clean.loc[df_clean['description'] == 'Closing Balance'].shape",
   "id": "6577bb4594e0f17b",
   "outputs": [
    {
     "data": {
      "text/plain": [
       "(0, 5)"
      ]
     },
     "execution_count": 21,
     "metadata": {},
     "output_type": "execute_result"
    }
   ],
   "execution_count": 21
  },
  {
   "metadata": {
    "ExecuteTime": {
     "end_time": "2025-08-09T12:17:23.630568Z",
     "start_time": "2025-08-09T12:17:23.608315Z"
    }
   },
   "cell_type": "code",
   "source": [
    "df_clean = df_clean.drop(df_clean.loc[df_clean['description'] == 'Opening Balance'].index)\n",
    "df_clean = df_clean.drop(df_clean.loc[df_clean['description'] == 'Closing Balance'].index)"
   ],
   "id": "1d6d1e5ad2847daa",
   "outputs": [],
   "execution_count": 19
  },
  {
   "metadata": {
    "ExecuteTime": {
     "end_time": "2025-08-09T12:21:56.066115Z",
     "start_time": "2025-08-09T12:21:56.047056Z"
    }
   },
   "cell_type": "code",
   "source": [
    "df_clean['transaction_type'] = df_clean.apply(\n",
    "    lambda row: 'withdrawal' if pd.notna(row['withdrawals']) and row['withdrawals'] > 0\n",
    "    else 'deposit' if pd.notna(row['deposits']) and row['deposits'] > 0\n",
    "    else 'unknown', axis=1\n",
    ")"
   ],
   "id": "2c31051e452481e",
   "outputs": [],
   "execution_count": 22
  },
  {
   "metadata": {
    "ExecuteTime": {
     "end_time": "2025-08-09T12:22:28.594273Z",
     "start_time": "2025-08-09T12:22:28.586766Z"
    }
   },
   "cell_type": "code",
   "source": "df_clean['transaction_type'].value_counts()",
   "id": "b16e3cb7b3d3f7f8",
   "outputs": [
    {
     "data": {
      "text/plain": [
       "transaction_type\n",
       "withdrawal    484\n",
       "deposit       108\n",
       "unknown         1\n",
       "Name: count, dtype: int64"
      ]
     },
     "execution_count": 25,
     "metadata": {},
     "output_type": "execute_result"
    }
   ],
   "execution_count": 25
  },
  {
   "metadata": {
    "ExecuteTime": {
     "end_time": "2025-08-09T12:22:57.156449Z",
     "start_time": "2025-08-09T12:22:57.133419Z"
    }
   },
   "cell_type": "code",
   "source": "df_clean.loc[df_clean['transaction_type'] == 'unknown']",
   "id": "72bc8c8cff1e6073",
   "outputs": [
    {
     "data": {
      "text/plain": [
       "           date description  withdrawals  deposits  balance transaction_type\n",
       "180  2024-08-02     Deposit          NaN       0.0      0.0          unknown"
      ],
      "text/html": [
       "<div>\n",
       "<style scoped>\n",
       "    .dataframe tbody tr th:only-of-type {\n",
       "        vertical-align: middle;\n",
       "    }\n",
       "\n",
       "    .dataframe tbody tr th {\n",
       "        vertical-align: top;\n",
       "    }\n",
       "\n",
       "    .dataframe thead th {\n",
       "        text-align: right;\n",
       "    }\n",
       "</style>\n",
       "<table border=\"1\" class=\"dataframe\">\n",
       "  <thead>\n",
       "    <tr style=\"text-align: right;\">\n",
       "      <th></th>\n",
       "      <th>date</th>\n",
       "      <th>description</th>\n",
       "      <th>withdrawals</th>\n",
       "      <th>deposits</th>\n",
       "      <th>balance</th>\n",
       "      <th>transaction_type</th>\n",
       "    </tr>\n",
       "  </thead>\n",
       "  <tbody>\n",
       "    <tr>\n",
       "      <th>180</th>\n",
       "      <td>2024-08-02</td>\n",
       "      <td>Deposit</td>\n",
       "      <td>NaN</td>\n",
       "      <td>0.0</td>\n",
       "      <td>0.0</td>\n",
       "      <td>unknown</td>\n",
       "    </tr>\n",
       "  </tbody>\n",
       "</table>\n",
       "</div>"
      ]
     },
     "execution_count": 26,
     "metadata": {},
     "output_type": "execute_result"
    }
   ],
   "execution_count": 26
  },
  {
   "metadata": {
    "ExecuteTime": {
     "end_time": "2025-08-09T12:31:46.735168Z",
     "start_time": "2025-08-09T12:31:46.724247Z"
    }
   },
   "cell_type": "code",
   "source": "df_clean['deposits'].sum()",
   "id": "87a94255f1a7d9fd",
   "outputs": [
    {
     "data": {
      "text/plain": [
       "np.float64(3133656.0)"
      ]
     },
     "execution_count": 31,
     "metadata": {},
     "output_type": "execute_result"
    }
   ],
   "execution_count": 31
  },
  {
   "metadata": {
    "ExecuteTime": {
     "end_time": "2025-08-09T12:32:00.675546Z",
     "start_time": "2025-08-09T12:32:00.672392Z"
    }
   },
   "cell_type": "code",
   "source": "df_clean['withdrawals'].sum()",
   "id": "dccdf77b65a231fa",
   "outputs": [
    {
     "data": {
      "text/plain": [
       "np.float64(8122158.0)"
      ]
     },
     "execution_count": 32,
     "metadata": {},
     "output_type": "execute_result"
    }
   ],
   "execution_count": 32
  },
  {
   "metadata": {
    "ExecuteTime": {
     "end_time": "2025-08-09T20:54:49.772047Z",
     "start_time": "2025-08-09T20:54:49.668119Z"
    }
   },
   "cell_type": "code",
   "source": "df_clean.head()",
   "id": "12c87190368fbb2d",
   "outputs": [
    {
     "data": {
      "text/plain": [
       "         date                                        description  withdrawals  \\\n",
       "1  2025-01-02        Withdrawal 25991738 Free Interac E Transfer        800.0   \n",
       "2  2025-01-02                      MB Transfer from 232001691155          NaN   \n",
       "3  2025-01-02  Point of sale purchase Apos Driver Services Va...       1500.0   \n",
       "4  2025-01-02  Point of sale purchase Apos Driver Services Va...       1000.0   \n",
       "5  2025-01-02  Point of sale purchase Apos Sal army West Br V...       4635.0   \n",
       "\n",
       "   deposits  balance transaction_type  \n",
       "1       NaN   1401.0       withdrawal  \n",
       "2    6000.0   7401.0          deposit  \n",
       "3       NaN   5901.0       withdrawal  \n",
       "4       NaN   4901.0       withdrawal  \n",
       "5       NaN    266.0       withdrawal  "
      ],
      "text/html": [
       "<div>\n",
       "<style scoped>\n",
       "    .dataframe tbody tr th:only-of-type {\n",
       "        vertical-align: middle;\n",
       "    }\n",
       "\n",
       "    .dataframe tbody tr th {\n",
       "        vertical-align: top;\n",
       "    }\n",
       "\n",
       "    .dataframe thead th {\n",
       "        text-align: right;\n",
       "    }\n",
       "</style>\n",
       "<table border=\"1\" class=\"dataframe\">\n",
       "  <thead>\n",
       "    <tr style=\"text-align: right;\">\n",
       "      <th></th>\n",
       "      <th>date</th>\n",
       "      <th>description</th>\n",
       "      <th>withdrawals</th>\n",
       "      <th>deposits</th>\n",
       "      <th>balance</th>\n",
       "      <th>transaction_type</th>\n",
       "    </tr>\n",
       "  </thead>\n",
       "  <tbody>\n",
       "    <tr>\n",
       "      <th>1</th>\n",
       "      <td>2025-01-02</td>\n",
       "      <td>Withdrawal 25991738 Free Interac E Transfer</td>\n",
       "      <td>800.0</td>\n",
       "      <td>NaN</td>\n",
       "      <td>1401.0</td>\n",
       "      <td>withdrawal</td>\n",
       "    </tr>\n",
       "    <tr>\n",
       "      <th>2</th>\n",
       "      <td>2025-01-02</td>\n",
       "      <td>MB Transfer from 232001691155</td>\n",
       "      <td>NaN</td>\n",
       "      <td>6000.0</td>\n",
       "      <td>7401.0</td>\n",
       "      <td>deposit</td>\n",
       "    </tr>\n",
       "    <tr>\n",
       "      <th>3</th>\n",
       "      <td>2025-01-02</td>\n",
       "      <td>Point of sale purchase Apos Driver Services Va...</td>\n",
       "      <td>1500.0</td>\n",
       "      <td>NaN</td>\n",
       "      <td>5901.0</td>\n",
       "      <td>withdrawal</td>\n",
       "    </tr>\n",
       "    <tr>\n",
       "      <th>4</th>\n",
       "      <td>2025-01-02</td>\n",
       "      <td>Point of sale purchase Apos Driver Services Va...</td>\n",
       "      <td>1000.0</td>\n",
       "      <td>NaN</td>\n",
       "      <td>4901.0</td>\n",
       "      <td>withdrawal</td>\n",
       "    </tr>\n",
       "    <tr>\n",
       "      <th>5</th>\n",
       "      <td>2025-01-02</td>\n",
       "      <td>Point of sale purchase Apos Sal army West Br V...</td>\n",
       "      <td>4635.0</td>\n",
       "      <td>NaN</td>\n",
       "      <td>266.0</td>\n",
       "      <td>withdrawal</td>\n",
       "    </tr>\n",
       "  </tbody>\n",
       "</table>\n",
       "</div>"
      ]
     },
     "execution_count": 33,
     "metadata": {},
     "output_type": "execute_result"
    }
   ],
   "execution_count": 33
  },
  {
   "metadata": {},
   "cell_type": "markdown",
   "source": "#### Feature Engineering",
   "id": "38cc4f1fba088b3d"
  },
  {
   "metadata": {
    "ExecuteTime": {
     "end_time": "2025-08-09T21:00:56.953529Z",
     "start_time": "2025-08-09T21:00:56.896602Z"
    }
   },
   "cell_type": "code",
   "source": [
    "df_clean['date'] = pd.to_datetime(df_clean['date'])\n",
    "\n",
    "df_clean['day'] = df_clean['date'].dt.day\n",
    "df_clean['month'] = df_clean['date'].dt.month\n",
    "df_clean['year'] = df_clean['date'].dt.year\n",
    "df_clean['day_of_week'] = df_clean['date'].dt.dayofweek"
   ],
   "id": "d54b24fa511c5014",
   "outputs": [],
   "execution_count": 35
  },
  {
   "metadata": {
    "ExecuteTime": {
     "end_time": "2025-08-09T21:05:51.628082Z",
     "start_time": "2025-08-09T21:05:51.611792Z"
    }
   },
   "cell_type": "code",
   "source": "print(df_clean.sample(10))",
   "id": "8e4009d4c6a9dc7a",
   "outputs": [
    {
     "name": "stdout",
     "output_type": "stream",
     "text": [
      "          date                                        description  \\\n",
      "26  2025-01-11  Point of sale purchase Apos Dollar ama 1373 Va...   \n",
      "334 2025-06-30                      MB Transfer from 232001691155   \n",
      "202 2024-08-07  Error correction F posTl nk 0453008319 Burnaby...   \n",
      "281 2024-09-20  Point of sale purchase Op osI c Insta cart 188...   \n",
      "344 2025-07-02  Point of sale purchase Op o sAm zn Mkt pCA Www...   \n",
      "358 2025-07-03       Point of sale purchase A posTl nk 0484914343   \n",
      "226 2024-08-16  Point of sale purchase Coin amati c 2707 Tenni...   \n",
      "372 2025-07-07  Point of sale purchase O posA BC 803 Golds Gym...   \n",
      "465 2025-05-22                      MB Transfer from 232001691155   \n",
      "143 2024-10-01        Withdrawal 84938279 Free Interac E Transfer   \n",
      "\n",
      "     withdrawals  deposits   balance transaction_type  day  month  year  \\\n",
      "26        2440.0       NaN    8174.0       withdrawal   11      1  2025   \n",
      "334          NaN    5000.0    8117.0          deposit   30      6  2025   \n",
      "202        635.0       NaN  213917.0       withdrawal    7      8  2024   \n",
      "281       5900.0       NaN   99752.0       withdrawal   20      9  2024   \n",
      "344       2015.0       NaN   98283.0       withdrawal    2      7  2025   \n",
      "358        335.0       NaN    9852.0       withdrawal    3      7  2025   \n",
      "226       1000.0       NaN   14414.0       withdrawal   16      8  2024   \n",
      "372       2729.0       NaN    1597.0       withdrawal    7      7  2025   \n",
      "465          NaN    4000.0    5413.0          deposit   22      5  2025   \n",
      "143       3000.0       NaN   50189.0       withdrawal    1     10  2024   \n",
      "\n",
      "     day_of_week  \n",
      "26             5  \n",
      "334            0  \n",
      "202            2  \n",
      "281            4  \n",
      "344            2  \n",
      "358            3  \n",
      "226            4  \n",
      "372            0  \n",
      "465            3  \n",
      "143            1  \n"
     ]
    }
   ],
   "execution_count": 38
  },
  {
   "metadata": {
    "ExecuteTime": {
     "end_time": "2025-08-09T21:22:31.148659Z",
     "start_time": "2025-08-09T21:22:31.086684Z"
    }
   },
   "cell_type": "code",
   "source": "df_clean.info()",
   "id": "66640cce2c709f6f",
   "outputs": [
    {
     "name": "stdout",
     "output_type": "stream",
     "text": [
      "<class 'pandas.core.frame.DataFrame'>\n",
      "Index: 593 entries, 1 to 616\n",
      "Data columns (total 10 columns):\n",
      " #   Column            Non-Null Count  Dtype         \n",
      "---  ------            --------------  -----         \n",
      " 0   date              593 non-null    datetime64[ns]\n",
      " 1   description       593 non-null    object        \n",
      " 2   withdrawals       484 non-null    float64       \n",
      " 3   deposits          109 non-null    float64       \n",
      " 4   balance           593 non-null    float64       \n",
      " 5   transaction_type  593 non-null    object        \n",
      " 6   day               593 non-null    int32         \n",
      " 7   month             593 non-null    int32         \n",
      " 8   year              593 non-null    int32         \n",
      " 9   day_of_week       593 non-null    int32         \n",
      "dtypes: datetime64[ns](1), float64(3), int32(4), object(2)\n",
      "memory usage: 41.7+ KB\n"
     ]
    }
   ],
   "execution_count": 39
  },
  {
   "metadata": {
    "ExecuteTime": {
     "end_time": "2025-08-09T21:23:51.934318Z",
     "start_time": "2025-08-09T21:23:51.904740Z"
    }
   },
   "cell_type": "code",
   "source": "df_clean.to_csv(f\"{PROCESSED_PATH}/df_v2.csv\", index=False)",
   "id": "5ffa25ace752b982",
   "outputs": [],
   "execution_count": 40
  },
  {
   "metadata": {},
   "cell_type": "code",
   "outputs": [],
   "execution_count": null,
   "source": "",
   "id": "5bde70b59a64f39f"
  }
 ],
 "metadata": {
  "kernelspec": {
   "display_name": "Python 3",
   "language": "python",
   "name": "python3"
  },
  "language_info": {
   "codemirror_mode": {
    "name": "ipython",
    "version": 2
   },
   "file_extension": ".py",
   "mimetype": "text/x-python",
   "name": "python",
   "nbconvert_exporter": "python",
   "pygments_lexer": "ipython2",
   "version": "2.7.6"
  }
 },
 "nbformat": 4,
 "nbformat_minor": 5
}
